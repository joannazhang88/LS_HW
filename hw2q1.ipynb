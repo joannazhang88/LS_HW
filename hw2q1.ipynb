{
 "cells": [
  {
   "cell_type": "code",
   "execution_count": 1,
   "metadata": {
    "scrolled": true
   },
   "outputs": [],
   "source": [
    "import requests\n",
    "import dataset\n",
    "import re\n",
    "from datetime import datetime\n",
    "from bs4 import BeautifulSoup\n",
    "from urllib.parse import urljoin, urlparse\n",
    "import pywren"
   ]
  },
  {
   "cell_type": "code",
   "execution_count": 37,
   "metadata": {
    "scrolled": true
   },
   "outputs": [],
   "source": [
    "db = dataset.connect('sqlite:///books.db')\n",
    "base_url = 'http://books.toscrape.com/'\n",
    "\n",
    "def scrape_books(url_list): \n",
    "    r = requests.get(url)\n",
    "    html_soup = BeautifulSoup(r.text, 'html.parser')\n",
    "    books=html_soup.select('article.product_pod')\n",
    "    book_list_id = []\n",
    "    #book = books\n",
    "    for book in books:\n",
    "        book_url = book.find('h3').find('a').get('href')\n",
    "        book_url = urljoin(url, book_url)\n",
    "        path = urlparse(book_url).path\n",
    "        book_id = path.split('/')[2]\n",
    "        book_list_id.append(book_id)\n",
    "    return book_list_id\n",
    "        # Upsert tries to update first and then insert instead\n",
    "#         db['books'].upsert({'book_id' : book_id,\n",
    "#                             'last_seen' : datetime.now()\n",
    "#                             }, ['book_id'])\n"
   ]
  },
  {
   "cell_type": "code",
   "execution_count": 43,
   "metadata": {},
   "outputs": [
    {
     "data": {
      "text/plain": [
       "True"
      ]
     },
     "execution_count": 43,
     "metadata": {},
     "output_type": "execute_result"
    }
   ],
   "source": [
    "#book_id_list = pywren.get_all_results(pwex.map(scrape_books,url_list[1:2]))\n",
    "db['books'].upsert({'book_id' : book_id_list[0],'last_seen' : datetime.now()}, ['book_id'])\n",
    "\n",
    "#book_id_list[0]"
   ]
  },
  {
   "cell_type": "code",
   "execution_count": null,
   "metadata": {},
   "outputs": [],
   "source": [
    "# Scrape the pages in the catalogue\n",
    "pwex = pywren.default_executor()\n",
    "url = base_url\n",
    "url_list = []\n",
    "#inp = input('Do you wish to re-scrape the catalogue (y/n)? ')\n",
    "inp == 'y'\n",
    "while True and inp == 'y':\n",
    "    url_list.append(url)\n",
    "    r = requests.get(url)\n",
    "    html_soup = BeautifulSoup(r.text, 'html.parser')\n",
    "    next_a = html_soup.select('li.next > a')\n",
    "    if not next_a or not next_a[0].get('href'):\n",
    "        break\n",
    "    url = urljoin(url, next_a[0].get('href'))\n",
    "\n",
    "book_id_list = pywren.get_all_results(pwex.map(scrape_books,url_list[1:2]))"
   ]
  },
  {
   "cell_type": "code",
   "execution_count": 47,
   "metadata": {
    "scrolled": true
   },
   "outputs": [
    {
     "data": {
      "text/plain": [
       "True"
      ]
     },
     "execution_count": 47,
     "metadata": {},
     "output_type": "execute_result"
    }
   ],
   "source": [
    "db['books'].upsert({'book_id' : book_id_list[0],'last_seen' : datetime.now()}, ['book_id'])"
   ]
  },
  {
   "cell_type": "code",
   "execution_count": 24,
   "metadata": {
    "scrolled": true
   },
   "outputs": [],
   "source": [
    "#books = db['books'].find(order_by=['last_seen'])\n",
    "book_id_list = book_id_list[0]\n",
    "# for book in books:\n",
    "#     book_id = book['book_id']\n",
    "#     book_id_list.append(book_id)"
   ]
  },
  {
   "cell_type": "code",
   "execution_count": 26,
   "metadata": {
    "scrolled": true
   },
   "outputs": [
    {
     "name": "stdout",
     "output_type": "stream",
     "text": [
      "aladdin-and-his-wonderful-lamp_973\n",
      "worlds-elsewhere-journeys-around-shakespeares-globe_972\n"
     ]
    }
   ],
   "source": [
    "#pwex.map(func = scrape_book1, iterdata =['wall-and-piece_971'])\n",
    "#pywren.get_all_results(pwex.map(scrape_book1, book_all[1]))"
   ]
  },
  {
   "cell_type": "code",
   "execution_count": 30,
   "metadata": {
    "scrolled": true
   },
   "outputs": [
    {
     "data": {
      "text/plain": [
       "[[{'book_id': 'aladdin-and-his-wonderful-lamp_973',\n",
       "   'title': 'Aladdin and His Wonderful Lamp',\n",
       "   'price': '£53.13',\n",
       "   'stock': 'In stock (19 available)',\n",
       "   'rating': 'Three',\n",
       "   'img': '../../media/cache/a8/3c/a83c460fab82f35a37c0846729485547.jpg',\n",
       "   'description': 'Planning on seeing Aladdin the Disney musical? Read the classic story of \"Aladdin and his Wonderful Lamp\" in this sparkling new edition by Harpendore. Synopsis: Aladdin is a poor boy who lives with his mother in the ancient kingdom of Cathay. One day a strange man appears offering untold riches! Aladdin is not so sure, yet he\\'s sorely tempted. Join Aladdin on his incredib Planning on seeing Aladdin the Disney musical? Read the classic story of \"Aladdin and his Wonderful Lamp\" in this sparkling new edition by Harpendore. Synopsis: Aladdin is a poor boy who lives with his mother in the ancient kingdom of Cathay. One day a strange man appears offering untold riches! Aladdin is not so sure, yet he\\'s sorely tempted. Join Aladdin on his incredible adventures and visit the cave of treasures. A world of magic awaits you, but watch your step - there\\'s mischief lurking at every turn! The Arabian Nights (also known as The One Thousand and One Nights) is an ancient collection of tales that have existed for thousands of years. Harpendore\\'s Arabian Nights Adventures are beautifully retold versions of these ancient classics that are specially designed to appeal to children aged seven years and above. They are written in a warm and accessible style and include wonderful illustrations inside. With mischief and magic in equal measure, this series is sure to captivate readers everywhere. The Arabian Nights Adventures series is being released throughout 2016 and 2017. Stories to be included are: The Adventures of Prince Camar & Princess Badoura Aladdin and his Wonderful Lamp Gulnare of the Sea Ali Baba and the Forty Thieves The Seven Voyages of Sinbad the Sailor The Enchanted Horse The Talking Bird, the Singing Tree and the Golden Water The Merchant and the Genie The Tale of Zubaidah and the Three Qalandars The Adventures of Harun al-Rashid, Caliph of Baghdad The Three Princes, the Princess and the Jinni Pari Banou The Fisherman and the Genie The King\\'s Jester (also known as The Little Hunchback) ...more',\n",
       "   'UPC': '904208d6aa64b655',\n",
       "   'Product_Type': 'Books',\n",
       "   'Price_excl_tax_': '£53.13',\n",
       "   'Price_incl_tax_': '£53.13',\n",
       "   'Tax': '£0.00',\n",
       "   'Availability': 'In stock (19 available)',\n",
       "   'Number_of_reviews': '0'}],\n",
       " [{'book_id': 'worlds-elsewhere-journeys-around-shakespeares-globe_972',\n",
       "   'title': 'Worlds Elsewhere: Journeys Around Shakespeare’s Globe',\n",
       "   'price': '£40.30',\n",
       "   'stock': 'In stock (18 available)',\n",
       "   'rating': 'Five',\n",
       "   'img': '../../media/cache/7b/d9/7bd93db091d736d0c6ff9d578e3ba3d7.jpg',\n",
       "   'description': 'Anti-apartheid activist, Bollywood screenwriter, Nazi pin-up, hero of the Wild West: this is Shakespeare as you have never seen him before.From the sixteenth-century Baltic to the American Revolution, from colonial India to the skyscrapers of modern-day Shanghai, Shakespeare’s plays appear at the most fascinating of times and in the most unexpected of places. No other writ Anti-apartheid activist, Bollywood screenwriter, Nazi pin-up, hero of the Wild West: this is Shakespeare as you have never seen him before.From the sixteenth-century Baltic to the American Revolution, from colonial India to the skyscrapers of modern-day Shanghai, Shakespeare’s plays appear at the most fascinating of times and in the most unexpected of places. No other writer’s work has been performed, translated, adapted and altered in such a remarkable variety of cultures and languages. But what is it about William Shakespeare – a man from Warwickshire who never once set foot outside England – that has made him at home in so many places around the globe?Travelling across four continents, six countries and 400 years, Andrew Dickson takes us on a personal journey rich in insight and surprise. We enter the air-conditioned vault deep beneath Capitol Hill where the world’s largest collection of First Folios is stored; discover the shadowy history of Joseph Goebbels’s obsession with Shakespeare; and uncover the true story behind the scuffed edition in which Nelson Mandela and fellow Robben Island prisoners inscribed their names. Both cultural history and literary travelogue, Worlds Elsewhere is an attempt to understand how Shakespeare has become the international phenomenon he is – and why.\"There were very few pages on which I didn’t learn something new or revelatory. A must-read for anyone interested in Shakespeare’s impact on people and politics around the globe\" (James Shapiro, author of 1599: A Year in the Life of William Shakespeare)\"Immensely well-informed and highly readable. A revelatory journey of cultural exploration\" (Professor Stanley Wells, General Editor of the Oxford and Penguin Shakespeares)\"Brilliantly original. Absolutely engaging, witty and irresistible. What’s most remarkable: he’s said something new about Shakespeare\" (Michael Pye, author of The Edge of the World)\"A truly original book about Shakespeare: one that explores the dramatist\\'s global reach with tenacity, devotion and an exhilarating spirit of adventure\" (Michael Billington) ...more',\n",
       "   'UPC': '4c28def39d850cdf',\n",
       "   'Product_Type': 'Books',\n",
       "   'Price_excl_tax_': '£40.30',\n",
       "   'Price_incl_tax_': '£40.30',\n",
       "   'Tax': '£0.00',\n",
       "   'Availability': 'In stock (18 available)',\n",
       "   'Number_of_reviews': '0'}]]"
      ]
     },
     "execution_count": 30,
     "metadata": {},
     "output_type": "execute_result"
    }
   ],
   "source": [
    "def scrape_book1(book_id_list):\n",
    "        book_list = []\n",
    "        book_id = book_id_list\n",
    "        book_url = base_url + 'catalogue/{}'.format(book_id)\n",
    "        print('Now scraping book:', book_url)\n",
    "        r = requests.get(book_url)\n",
    "        r.encoding = 'utf-8'\n",
    "        html_soup = BeautifulSoup(r.text, 'html.parser')\n",
    "        main = html_soup.find(class_='product_main')\n",
    "        book = {}\n",
    "        book['book_id'] = book_id\n",
    "        book['title'] = main.find('h1').get_text(strip=True)\n",
    "        book['price'] = main.find(class_='price_color').get_text(strip=True)\n",
    "        book['stock'] = main.find(class_='availability').get_text(strip=True)\n",
    "        book['rating'] = ' '.join(main.find(class_='star-rating') \\\n",
    "                            .get('class')).replace('star-rating', '').strip()\n",
    "        book['img'] = html_soup.find(class_='thumbnail').find('img').get('src')\n",
    "        desc = html_soup.find(id='product_description')\n",
    "        book['description'] = ''\n",
    "        if desc:\n",
    "            book['description'] = desc.find_next_sibling('p') \\\n",
    "                                      .get_text(strip=True)\n",
    "        book_product_table = html_soup.find(text='Product Information').find_next('table')\n",
    "        for row in book_product_table.find_all('tr'):\n",
    "            header = row.find('th').get_text(strip=True)\n",
    "            # Since we'll use the header as a column, clean it a bit\n",
    "            # to make sure SQLite will accept it\n",
    "            header = re.sub('[^a-zA-Z]+', '_', header)\n",
    "            value = row.find('td').get_text(strip=True)\n",
    "            book[header] = value\n",
    "        book_list.append(book)\n",
    "        return book_list\n",
    "all_books = pywren.get_all_results(pwex.map(scrape_book1,book_id_list))\n",
    "db['book_info'].upsert(all_books[0], ['book_id'])"
   ]
  },
  {
   "cell_type": "code",
   "execution_count": null,
   "metadata": {},
   "outputs": [],
   "source": []
  }
 ],
 "metadata": {
  "kernelspec": {
   "display_name": "Python 3",
   "language": "python",
   "name": "python3"
  },
  "language_info": {
   "codemirror_mode": {
    "name": "ipython",
    "version": 3
   },
   "file_extension": ".py",
   "mimetype": "text/x-python",
   "name": "python",
   "nbconvert_exporter": "python",
   "pygments_lexer": "ipython3",
   "version": "3.6.8"
  }
 },
 "nbformat": 4,
 "nbformat_minor": 2
}
